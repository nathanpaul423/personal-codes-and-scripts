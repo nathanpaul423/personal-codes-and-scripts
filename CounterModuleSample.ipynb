{
  "nbformat": 4,
  "nbformat_minor": 0,
  "metadata": {
    "colab": {
      "provenance": [],
      "authorship_tag": "ABX9TyMzEAxUvlB4/GRUmGvreYdC",
      "include_colab_link": true
    },
    "kernelspec": {
      "name": "python3",
      "display_name": "Python 3"
    },
    "language_info": {
      "name": "python"
    }
  },
  "cells": [
    {
      "cell_type": "markdown",
      "metadata": {
        "id": "view-in-github",
        "colab_type": "text"
      },
      "source": [
        "<a href=\"https://colab.research.google.com/github/nathanpaul423/personal-codes-and-scripts/blob/main/CounterModuleSample.ipynb\" target=\"_parent\"><img src=\"https://colab.research.google.com/assets/colab-badge.svg\" alt=\"Open In Colab\"/></a>"
      ]
    },
    {
      "cell_type": "code",
      "execution_count": null,
      "metadata": {
        "id": "XeeYE8n5LUbG"
      },
      "outputs": [],
      "source": [
        "import pandas as pd\n",
        "from collections import Counter"
      ]
    },
    {
      "cell_type": "code",
      "source": [
        "c = Counter()"
      ],
      "metadata": {
        "id": "o-HPMDBaLcGR"
      },
      "execution_count": null,
      "outputs": []
    },
    {
      "cell_type": "code",
      "source": [
        "data = pd.read_csv('https://raw.githubusercontent.com/CoreyMSchafer/code_snippets/master/Python/Matplotlib/02-BarCharts/data.csv')"
      ],
      "metadata": {
        "id": "5YWGiP5AMNuI"
      },
      "execution_count": null,
      "outputs": []
    },
    {
      "cell_type": "code",
      "source": [
        "language = data['LanguagesWorkedWith']"
      ],
      "metadata": {
        "id": "kJZH9cVcMSeI"
      },
      "execution_count": null,
      "outputs": []
    },
    {
      "cell_type": "code",
      "source": [
        "for i in language:\n",
        "  c.update(i.split(';'))\n"
      ],
      "metadata": {
        "id": "BrA33jrLMTRn"
      },
      "execution_count": null,
      "outputs": []
    },
    {
      "cell_type": "code",
      "source": [
        "most_comm_lang = c.most_common(10) #tuple inside a list\n",
        "lang = []\n",
        "count = []\n",
        "for i in most_comm_lang:\n",
        "  lang.append(i[0])\n",
        "  count.append(i[1])"
      ],
      "metadata": {
        "id": "IR4zMN-CMdRo"
      },
      "execution_count": null,
      "outputs": []
    },
    {
      "cell_type": "code",
      "source": [
        "import matplotlib.pyplot as plt"
      ],
      "metadata": {
        "id": "mjCSOqSxP1bl"
      },
      "execution_count": null,
      "outputs": []
    },
    {
      "cell_type": "code",
      "source": [
        "lang.reverse()#inplace method\n",
        "count.reverse()"
      ],
      "metadata": {
        "id": "o3hWGHbuQ7fe"
      },
      "execution_count": null,
      "outputs": []
    },
    {
      "cell_type": "code",
      "source": [
        "plt.barh(lang,count)\n",
        "\n",
        "plt.title('Most Used language')\n",
        "plt.grid(True)\n",
        "plt.show()"
      ],
      "metadata": {
        "colab": {
          "base_uri": "https://localhost:8080/",
          "height": 281
        },
        "id": "BbZp4ArVP149",
        "outputId": "dce30fd2-67dc-4698-da35-82d65b84f0d4"
      },
      "execution_count": null,
      "outputs": [
        {
          "output_type": "display_data",
          "data": {
            "text/plain": [
              "<Figure size 432x288 with 1 Axes>"
            ],
            "image/png": "[encoded data removed]"
          },
          "metadata": {
            "needs_background": "light"
          }
        }
      ]
    },
    {
      "cell_type": "code",
      "source": [],
      "metadata": {
        "id": "4ezsxO_iQ25o"
      },
      "execution_count": null,
      "outputs": []
    }
  ]
}
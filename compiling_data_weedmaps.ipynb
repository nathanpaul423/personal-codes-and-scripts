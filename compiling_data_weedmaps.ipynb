{
 "cells": [
  {
   "cell_type": "code",
   "execution_count": 1,
   "metadata": {},
   "outputs": [],
   "source": [
    "import pandas as pd"
   ]
  },
  {
   "cell_type": "code",
   "execution_count": 2,
   "metadata": {},
   "outputs": [],
   "source": [
    "columns = ['Listing Name', 'Listing Region', 'Listing Type', 'Prorated Spend',\n",
    "       'Premium Days', 'Total Clicks', 'Deal Claims', 'Deal Views',\n",
    "       'Cost Per Click', 'Listing Page Visitors', 'Cost Per LPV',\n",
    "       'Contact Clicks', 'Phone Clicks', 'Direction Clicks', 'Website Clicks',\n",
    "       'Email Clicks', 'Order Count', 'Order GMV', 'AOV', 'eROAS','date']"
   ]
  },
  {
   "cell_type": "code",
   "execution_count": 3,
   "metadata": {},
   "outputs": [],
   "source": [
    "compilation = pd.DataFrame(columns=columns)"
   ]
  },
  {
   "cell_type": "code",
   "execution_count": 4,
   "metadata": {},
   "outputs": [
    {
     "data": {
      "text/html": [
       "<div>\n",
       "<style scoped>\n",
       "    .dataframe tbody tr th:only-of-type {\n",
       "        vertical-align: middle;\n",
       "    }\n",
       "\n",
       "    .dataframe tbody tr th {\n",
       "        vertical-align: top;\n",
       "    }\n",
       "\n",
       "    .dataframe thead th {\n",
       "        text-align: right;\n",
       "    }\n",
       "</style>\n",
       "<table border=\"1\" class=\"dataframe\">\n",
       "  <thead>\n",
       "    <tr style=\"text-align: right;\">\n",
       "      <th></th>\n",
       "      <th>Listing Name</th>\n",
       "      <th>Listing Region</th>\n",
       "      <th>Listing Type</th>\n",
       "      <th>Prorated Spend</th>\n",
       "      <th>Premium Days</th>\n",
       "      <th>Total Clicks</th>\n",
       "      <th>Deal Claims</th>\n",
       "      <th>Deal Views</th>\n",
       "      <th>Cost Per Click</th>\n",
       "      <th>Listing Page Visitors</th>\n",
       "      <th>...</th>\n",
       "      <th>Contact Clicks</th>\n",
       "      <th>Phone Clicks</th>\n",
       "      <th>Direction Clicks</th>\n",
       "      <th>Website Clicks</th>\n",
       "      <th>Email Clicks</th>\n",
       "      <th>Order Count</th>\n",
       "      <th>Order GMV</th>\n",
       "      <th>AOV</th>\n",
       "      <th>eROAS</th>\n",
       "      <th>date</th>\n",
       "    </tr>\n",
       "  </thead>\n",
       "  <tbody>\n",
       "  </tbody>\n",
       "</table>\n",
       "<p>0 rows × 21 columns</p>\n",
       "</div>"
      ],
      "text/plain": [
       "Empty DataFrame\n",
       "Columns: [Listing Name, Listing Region, Listing Type, Prorated Spend, Premium Days, Total Clicks, Deal Claims, Deal Views, Cost Per Click, Listing Page Visitors, Cost Per LPV, Contact Clicks, Phone Clicks, Direction Clicks, Website Clicks, Email Clicks, Order Count, Order GMV, AOV, eROAS, date]\n",
       "Index: []\n",
       "\n",
       "[0 rows x 21 columns]"
      ]
     },
     "execution_count": 4,
     "metadata": {},
     "output_type": "execute_result"
    }
   ],
   "source": [
    "compilation"
   ]
  },
  {
   "cell_type": "code",
   "execution_count": 5,
   "metadata": {},
   "outputs": [],
   "source": [
    "import os"
   ]
  },
  {
   "cell_type": "code",
   "execution_count": 8,
   "metadata": {},
   "outputs": [],
   "source": [
    "#directory of the csv's for 'All Listings - Historical Products'\n",
    "target_dir = r'C:\\Users\\NATHANPAULBUSTAMANTE\\OneDrive\\Desktop\\Personality test\\Fuego\\Weedmaps dashboard\\Feb'"
   ]
  },
  {
   "cell_type": "code",
   "execution_count": 9,
   "metadata": {},
   "outputs": [
    {
     "data": {
      "text/plain": [
       "['All Listings - Historical Products 02 - 01 - 2024.csv',\n",
       " 'All Listings - Historical Products 02 - 02 - 2024.csv',\n",
       " 'All Listings - Historical Products 02 - 03 - 2024.csv',\n",
       " 'All Listings - Historical Products 02 - 04 - 2024.csv',\n",
       " 'All Listings - Historical Products 02 - 05 - 2024.csv',\n",
       " 'All Listings - Historical Products 02 - 06 - 2024.csv',\n",
       " 'All Listings - Historical Products 02 - 07 - 2024.csv',\n",
       " 'All Listings - Historical Products 02 - 08 - 2024.csv',\n",
       " 'All Listings - Historical Products 02 - 09 - 2024.csv',\n",
       " 'All Listings - Historical Products 02 - 10 - 2024.csv',\n",
       " 'All Listings - Historical Products 02 - 11 - 2024.csv',\n",
       " 'All Listings - Historical Products 02 - 12 - 2024.csv',\n",
       " 'All Listings - Historical Products 02 - 13 - 2024.csv',\n",
       " 'All Listings - Historical Products 02 - 14 - 2024.csv',\n",
       " 'All Listings - Historical Products 02 - 15 - 2024.csv',\n",
       " 'All Listings - Historical Products 02 - 16 - 2024.csv',\n",
       " 'All Listings - Historical Products 02 - 17 - 2024.csv',\n",
       " 'All Listings - Historical Products 02 - 18 - 2024.csv',\n",
       " 'All Listings - Historical Products 02 - 19 - 2024.csv',\n",
       " 'All Listings - Historical Products 02 - 20 - 2024.csv',\n",
       " 'All Listings - Historical Products 02 - 21 - 2024.csv',\n",
       " 'All Listings - Historical Products 02 - 22 - 2024.csv',\n",
       " 'All Listings - Historical Products 02 - 23 - 2024.csv',\n",
       " 'All Listings - Historical Products 02 - 24 - 2024.csv',\n",
       " 'All Listings - Historical Products 02 - 25 - 2024.csv',\n",
       " 'All Listings - Historical Products 02 - 26 - 2024.csv',\n",
       " 'All Listings - Historical Products 02 - 27 - 2024.csv',\n",
       " 'All Listings - Historical Products 02 - 28 - 2024.csv',\n",
       " 'All Listings - Historical Products 02 - 29 - 2024.csv']"
      ]
     },
     "execution_count": 9,
     "metadata": {},
     "output_type": "execute_result"
    }
   ],
   "source": [
    "file_list =os.listdir(target_dir)\n",
    "file_list"
   ]
  },
  {
   "cell_type": "code",
   "execution_count": 10,
   "metadata": {},
   "outputs": [],
   "source": [
    "dates = ['02/01/2024','02/02/2024','02/03/2024','02/04/2024','02/05/2024','02/06/2024','02/07/2024',\n",
    "         '02/08/2024','02/09/2024','02/10/2024','02/11/2024','02/12/2024','02/13/2024','02/14/2024',\n",
    "         '02/15/2024','02/16/2024','02/17/2024','02/18/2024','02/19/2024','02/20/2024','02/21/2024',\n",
    "         '02/22/2024','02/23/2024','02/24/2024','02/25/2024','02/26/2024','02/27/2024','02/28/2024',\n",
    "         '02/29/2024'\n",
    "        ]\n",
    "\n"
   ]
  },
  {
   "cell_type": "code",
   "execution_count": 11,
   "metadata": {},
   "outputs": [
    {
     "name": "stderr",
     "output_type": "stream",
     "text": [
      "C:\\Users\\NATHANPAULBUSTAMANTE\\AppData\\Local\\Temp\\ipykernel_16428\\1695868769.py:5: FutureWarning: The frame.append method is deprecated and will be removed from pandas in a future version. Use pandas.concat instead.\n",
      "  compilation = compilation.append(df1,ignore_index = True)\n",
      "C:\\Users\\NATHANPAULBUSTAMANTE\\AppData\\Local\\Temp\\ipykernel_16428\\1695868769.py:5: FutureWarning: The frame.append method is deprecated and will be removed from pandas in a future version. Use pandas.concat instead.\n",
      "  compilation = compilation.append(df1,ignore_index = True)\n",
      "C:\\Users\\NATHANPAULBUSTAMANTE\\AppData\\Local\\Temp\\ipykernel_16428\\1695868769.py:5: FutureWarning: The frame.append method is deprecated and will be removed from pandas in a future version. Use pandas.concat instead.\n",
      "  compilation = compilation.append(df1,ignore_index = True)\n",
      "C:\\Users\\NATHANPAULBUSTAMANTE\\AppData\\Local\\Temp\\ipykernel_16428\\1695868769.py:5: FutureWarning: The frame.append method is deprecated and will be removed from pandas in a future version. Use pandas.concat instead.\n",
      "  compilation = compilation.append(df1,ignore_index = True)\n",
      "C:\\Users\\NATHANPAULBUSTAMANTE\\AppData\\Local\\Temp\\ipykernel_16428\\1695868769.py:5: FutureWarning: The frame.append method is deprecated and will be removed from pandas in a future version. Use pandas.concat instead.\n",
      "  compilation = compilation.append(df1,ignore_index = True)\n",
      "C:\\Users\\NATHANPAULBUSTAMANTE\\AppData\\Local\\Temp\\ipykernel_16428\\1695868769.py:5: FutureWarning: The frame.append method is deprecated and will be removed from pandas in a future version. Use pandas.concat instead.\n",
      "  compilation = compilation.append(df1,ignore_index = True)\n",
      "C:\\Users\\NATHANPAULBUSTAMANTE\\AppData\\Local\\Temp\\ipykernel_16428\\1695868769.py:5: FutureWarning: The frame.append method is deprecated and will be removed from pandas in a future version. Use pandas.concat instead.\n",
      "  compilation = compilation.append(df1,ignore_index = True)\n",
      "C:\\Users\\NATHANPAULBUSTAMANTE\\AppData\\Local\\Temp\\ipykernel_16428\\1695868769.py:5: FutureWarning: The frame.append method is deprecated and will be removed from pandas in a future version. Use pandas.concat instead.\n",
      "  compilation = compilation.append(df1,ignore_index = True)\n",
      "C:\\Users\\NATHANPAULBUSTAMANTE\\AppData\\Local\\Temp\\ipykernel_16428\\1695868769.py:5: FutureWarning: The frame.append method is deprecated and will be removed from pandas in a future version. Use pandas.concat instead.\n",
      "  compilation = compilation.append(df1,ignore_index = True)\n",
      "C:\\Users\\NATHANPAULBUSTAMANTE\\AppData\\Local\\Temp\\ipykernel_16428\\1695868769.py:5: FutureWarning: The frame.append method is deprecated and will be removed from pandas in a future version. Use pandas.concat instead.\n",
      "  compilation = compilation.append(df1,ignore_index = True)\n",
      "C:\\Users\\NATHANPAULBUSTAMANTE\\AppData\\Local\\Temp\\ipykernel_16428\\1695868769.py:5: FutureWarning: The frame.append method is deprecated and will be removed from pandas in a future version. Use pandas.concat instead.\n",
      "  compilation = compilation.append(df1,ignore_index = True)\n",
      "C:\\Users\\NATHANPAULBUSTAMANTE\\AppData\\Local\\Temp\\ipykernel_16428\\1695868769.py:5: FutureWarning: The frame.append method is deprecated and will be removed from pandas in a future version. Use pandas.concat instead.\n",
      "  compilation = compilation.append(df1,ignore_index = True)\n",
      "C:\\Users\\NATHANPAULBUSTAMANTE\\AppData\\Local\\Temp\\ipykernel_16428\\1695868769.py:5: FutureWarning: The frame.append method is deprecated and will be removed from pandas in a future version. Use pandas.concat instead.\n",
      "  compilation = compilation.append(df1,ignore_index = True)\n",
      "C:\\Users\\NATHANPAULBUSTAMANTE\\AppData\\Local\\Temp\\ipykernel_16428\\1695868769.py:5: FutureWarning: The frame.append method is deprecated and will be removed from pandas in a future version. Use pandas.concat instead.\n",
      "  compilation = compilation.append(df1,ignore_index = True)\n",
      "C:\\Users\\NATHANPAULBUSTAMANTE\\AppData\\Local\\Temp\\ipykernel_16428\\1695868769.py:5: FutureWarning: The frame.append method is deprecated and will be removed from pandas in a future version. Use pandas.concat instead.\n",
      "  compilation = compilation.append(df1,ignore_index = True)\n",
      "C:\\Users\\NATHANPAULBUSTAMANTE\\AppData\\Local\\Temp\\ipykernel_16428\\1695868769.py:5: FutureWarning: The frame.append method is deprecated and will be removed from pandas in a future version. Use pandas.concat instead.\n",
      "  compilation = compilation.append(df1,ignore_index = True)\n",
      "C:\\Users\\NATHANPAULBUSTAMANTE\\AppData\\Local\\Temp\\ipykernel_16428\\1695868769.py:5: FutureWarning: The frame.append method is deprecated and will be removed from pandas in a future version. Use pandas.concat instead.\n",
      "  compilation = compilation.append(df1,ignore_index = True)\n",
      "C:\\Users\\NATHANPAULBUSTAMANTE\\AppData\\Local\\Temp\\ipykernel_16428\\1695868769.py:5: FutureWarning: The frame.append method is deprecated and will be removed from pandas in a future version. Use pandas.concat instead.\n",
      "  compilation = compilation.append(df1,ignore_index = True)\n",
      "C:\\Users\\NATHANPAULBUSTAMANTE\\AppData\\Local\\Temp\\ipykernel_16428\\1695868769.py:5: FutureWarning: The frame.append method is deprecated and will be removed from pandas in a future version. Use pandas.concat instead.\n",
      "  compilation = compilation.append(df1,ignore_index = True)\n",
      "C:\\Users\\NATHANPAULBUSTAMANTE\\AppData\\Local\\Temp\\ipykernel_16428\\1695868769.py:5: FutureWarning: The frame.append method is deprecated and will be removed from pandas in a future version. Use pandas.concat instead.\n",
      "  compilation = compilation.append(df1,ignore_index = True)\n",
      "C:\\Users\\NATHANPAULBUSTAMANTE\\AppData\\Local\\Temp\\ipykernel_16428\\1695868769.py:5: FutureWarning: The frame.append method is deprecated and will be removed from pandas in a future version. Use pandas.concat instead.\n",
      "  compilation = compilation.append(df1,ignore_index = True)\n",
      "C:\\Users\\NATHANPAULBUSTAMANTE\\AppData\\Local\\Temp\\ipykernel_16428\\1695868769.py:5: FutureWarning: The frame.append method is deprecated and will be removed from pandas in a future version. Use pandas.concat instead.\n",
      "  compilation = compilation.append(df1,ignore_index = True)\n",
      "C:\\Users\\NATHANPAULBUSTAMANTE\\AppData\\Local\\Temp\\ipykernel_16428\\1695868769.py:5: FutureWarning: The frame.append method is deprecated and will be removed from pandas in a future version. Use pandas.concat instead.\n",
      "  compilation = compilation.append(df1,ignore_index = True)\n",
      "C:\\Users\\NATHANPAULBUSTAMANTE\\AppData\\Local\\Temp\\ipykernel_16428\\1695868769.py:5: FutureWarning: The frame.append method is deprecated and will be removed from pandas in a future version. Use pandas.concat instead.\n",
      "  compilation = compilation.append(df1,ignore_index = True)\n",
      "C:\\Users\\NATHANPAULBUSTAMANTE\\AppData\\Local\\Temp\\ipykernel_16428\\1695868769.py:5: FutureWarning: The frame.append method is deprecated and will be removed from pandas in a future version. Use pandas.concat instead.\n",
      "  compilation = compilation.append(df1,ignore_index = True)\n",
      "C:\\Users\\NATHANPAULBUSTAMANTE\\AppData\\Local\\Temp\\ipykernel_16428\\1695868769.py:5: FutureWarning: The frame.append method is deprecated and will be removed from pandas in a future version. Use pandas.concat instead.\n",
      "  compilation = compilation.append(df1,ignore_index = True)\n",
      "C:\\Users\\NATHANPAULBUSTAMANTE\\AppData\\Local\\Temp\\ipykernel_16428\\1695868769.py:5: FutureWarning: The frame.append method is deprecated and will be removed from pandas in a future version. Use pandas.concat instead.\n",
      "  compilation = compilation.append(df1,ignore_index = True)\n",
      "C:\\Users\\NATHANPAULBUSTAMANTE\\AppData\\Local\\Temp\\ipykernel_16428\\1695868769.py:5: FutureWarning: The frame.append method is deprecated and will be removed from pandas in a future version. Use pandas.concat instead.\n",
      "  compilation = compilation.append(df1,ignore_index = True)\n",
      "C:\\Users\\NATHANPAULBUSTAMANTE\\AppData\\Local\\Temp\\ipykernel_16428\\1695868769.py:5: FutureWarning: The frame.append method is deprecated and will be removed from pandas in a future version. Use pandas.concat instead.\n",
      "  compilation = compilation.append(df1,ignore_index = True)\n"
     ]
    }
   ],
   "source": [
    "for i, (x, y)  in enumerate(zip(file_list,dates)):\n",
    "    df1 = pd.read_csv(r'C:\\Users\\NATHANPAULBUSTAMANTE\\OneDrive\\Desktop\\Personality test\\Fuego\\Weedmaps dashboard\\Feb\\\\'+ x )\n",
    "    df1['date'] = y\n",
    "\n",
    "    compilation = compilation.append(df1,ignore_index = True)"
   ]
  },
  {
   "cell_type": "code",
   "execution_count": 12,
   "metadata": {},
   "outputs": [
    {
     "data": {
      "text/plain": [
       "1073"
      ]
     },
     "execution_count": 12,
     "metadata": {},
     "output_type": "execute_result"
    }
   ],
   "source": [
    "len(compilation)"
   ]
  },
  {
   "cell_type": "code",
   "execution_count": 14,
   "metadata": {},
   "outputs": [],
   "source": [
    "compilation.to_csv(r'C:\\Users\\NATHANPAULBUSTAMANTE\\OneDrive\\Desktop\\Personality test\\Fuego\\Weedmaps dashboard\\Feb\\compiled.csv')"
   ]
  }
 ],
 "metadata": {
  "kernelspec": {
   "display_name": "base",
   "language": "python",
   "name": "python3"
  },
  "language_info": {
   "codemirror_mode": {
    "name": "ipython",
    "version": 3
   },
   "file_extension": ".py",
   "mimetype": "text/x-python",
   "name": "python",
   "nbconvert_exporter": "python",
   "pygments_lexer": "ipython3",
   "version": "3.10.6"
  },
  "orig_nbformat": 4
 },
 "nbformat": 4,
 "nbformat_minor": 2
}

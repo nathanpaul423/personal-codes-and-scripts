{
 "cells": [
  {
   "cell_type": "code",
   "execution_count": 1,
   "id": "fff2fdce",
   "metadata": {},
   "outputs": [],
   "source": [
    "import os"
   ]
  },
  {
   "cell_type": "code",
   "execution_count": 5,
   "id": "2a7ba68e",
   "metadata": {},
   "outputs": [],
   "source": [
    "cwd = os.getcwd() #current working directory"
   ]
  },
  {
   "cell_type": "code",
   "execution_count": 3,
   "id": "b6988931",
   "metadata": {},
   "outputs": [
    {
     "name": "stdout",
     "output_type": "stream",
     "text": [
      "C:\\Users\\Tokwa\\AppData\\Local\\Programs\\Python\\Python310\\Scripts\n"
     ]
    }
   ],
   "source": [
    "print(cwd)"
   ]
  },
  {
   "cell_type": "code",
   "execution_count": 3,
   "id": "e97599b6",
   "metadata": {},
   "outputs": [],
   "source": [
    "os.chdir(r'C:\\Users\\Tokwa\\Documents\\Cocoy - School - 2nd Sem 2021-22\\Classlist')\n",
    "        #^ alway put 'r' for directories"
   ]
  },
  {
   "cell_type": "code",
   "execution_count": 6,
   "id": "21af6300",
   "metadata": {},
   "outputs": [
    {
     "name": "stdout",
     "output_type": "stream",
     "text": [
      "C:\\Users\\Tokwa\\Documents\\Cocoy - School - 2nd Sem 2021-22\\Classlist\n"
     ]
    }
   ],
   "source": [
    "print(cwd)"
   ]
  },
  {
   "cell_type": "code",
   "execution_count": 6,
   "id": "af7f690d",
   "metadata": {},
   "outputs": [
    {
     "data": {
      "text/plain": [
       "'C:\\\\Users\\\\Tokwa\\\\Documents\\\\Cocoy - School - 2nd Sem 2021-22\\\\Classlist'"
      ]
     },
     "execution_count": 6,
     "metadata": {},
     "output_type": "execute_result"
    }
   ],
   "source": [
    "os.getcwd()"
   ]
  },
  {
   "cell_type": "code",
   "execution_count": 7,
   "id": "62be3103",
   "metadata": {},
   "outputs": [],
   "source": [
    "list1=['ren','coy','tokwa']"
   ]
  },
  {
   "cell_type": "code",
   "execution_count": 8,
   "id": "e243fe92",
   "metadata": {},
   "outputs": [],
   "source": [
    "parent_dir = r'C:\\Users\\Tokwa\\Documents\\Cocoy - School - 2nd Sem 2021-22\\Classlist'"
   ]
  },
  {
   "cell_type": "code",
   "execution_count": 9,
   "id": "0238169c",
   "metadata": {},
   "outputs": [
    {
     "data": {
      "text/plain": [
       "'C:\\\\Users\\\\Tokwa\\\\Documents\\\\Cocoy - School - 2nd Sem 2021-22\\\\Classlist'"
      ]
     },
     "execution_count": 9,
     "metadata": {},
     "output_type": "execute_result"
    }
   ],
   "source": [
    "parent_dir"
   ]
  },
  {
   "cell_type": "code",
   "execution_count": 10,
   "id": "28f18a51",
   "metadata": {},
   "outputs": [],
   "source": [
    "for i in range(0,3):\n",
    "    path = os.path.join(parent_dir,list1[i])\n",
    "    os.mkdir(path)"
   ]
  },
  {
   "cell_type": "code",
   "execution_count": 11,
   "id": "d4d0f5b8",
   "metadata": {},
   "outputs": [],
   "source": [
    "import openpyxl"
   ]
  },
  {
   "cell_type": "code",
   "execution_count": 13,
   "id": "7b1a7322",
   "metadata": {},
   "outputs": [],
   "source": [
    "import pandas as pd"
   ]
  },
  {
   "cell_type": "code",
   "execution_count": 14,
   "id": "6ed1f6d4",
   "metadata": {},
   "outputs": [],
   "source": [
    "df = pd.read_excel(r'C:\\Users\\Tokwa\\Documents\\Cocoy - School - 2nd Sem 2021-22\\Classlist\\Class List.xlsx')"
   ]
  },
  {
   "cell_type": "code",
   "execution_count": 18,
   "id": "54ae1406",
   "metadata": {},
   "outputs": [
    {
     "data": {
      "text/plain": [
       "0                                   NaN\n",
       "1               Acosta, Jessryl Cariaga\n",
       "2            Aguinaldo, Abilardo Gabato\n",
       "3            Aquino, John Michael Cacay\n",
       "4         Aquino, Michael Austine Hadji\n",
       "5                Ausa, John Ryan Oliman\n",
       "6               Bartolome, Raymar Ramos\n",
       "7        Bayangan, Marshal Zane Baichon\n",
       "8           Bermudez, Reu Jasen Gonzaga\n",
       "9       Cadauan, Charmei Valerie Guzman\n",
       "10          Castillo, Jayson Rey Lindao\n",
       "11         Cerezo, Michael John Navarro\n",
       "12     Cristobal, Xandrex Nino Bermundo\n",
       "13         De Guzman, Allen Dale Lagmay\n",
       "14       **** De Leon, Mona May Carillo\n",
       "15             Dronio, Christian Gamido\n",
       "16       Enriquez, Mark Christian Reyes\n",
       "17           Eugenio, John David Esposo\n",
       "18                Fajardo, Jian Carl S.\n",
       "19          Gabatin, Bryan Dale Dupitas\n",
       "20        Galapon, Joseph Manuel gloria\n",
       "21           Galope, Johndhenbert Liwag\n",
       "22           Gapusan, Myleene Lactaotao\n",
       "23         Guiring, John Paul Magpantay\n",
       "24         Icawat, Joseph Luigi Salonga\n",
       "25    Julian, Loiuse Van Cedric Cultura\n",
       "26       Labuguen, Angelo Jerick Bayang\n",
       "27         Lorzano, Karl Angelo Mariano\n",
       "28      Maqueda, Mercy Divine Cabungcal\n",
       "29             Marquez, Leo Jay Esteban\n",
       "30      Marzan, Mark John Paul Reputola\n",
       "31         Mendiola, Rocel Anne De Leon\n",
       "32        Pabillena, Jefferson Manangan\n",
       "33              Paguyo, Christian Lacar\n",
       "34        Pascua, Michael Angelo Ballad\n",
       "35         **** Pascual, Jasper Anoling\n",
       "36            Pera, Christer Jan Pascua\n",
       "37         Petinez, Kathleen Pangilinan\n",
       "38       Rabago, Jomarxon Xyz Dela Cruz\n",
       "39           Ruiz, Conrad Paul Bardiaga\n",
       "40                Sales, Jey Vee Pascua\n",
       "41              Salvador, Alyzza Pabian\n",
       "42        Santiago, Mark Louie Quinones\n",
       "43           Santos, Johnette Mae Ramos\n",
       "44             Servan, John Clyde Romeo\n",
       "45          Soto, Jeuel Reign Abrasaldo\n",
       "46                Valdez, April Mendoza\n",
       "47         Viernes, Janssen Rei Topinio\n",
       "48       Villanueva, Ren Jeronne Carino\n",
       "Name: Unnamed: 1, dtype: object"
      ]
     },
     "execution_count": 18,
     "metadata": {},
     "output_type": "execute_result"
    }
   ],
   "source": [
    "df.iloc[:,1] #selecting data from column index 1"
   ]
  },
  {
   "cell_type": "code",
   "execution_count": 19,
   "id": "3d953326",
   "metadata": {},
   "outputs": [],
   "source": [
    "names = df.iloc[:,1]"
   ]
  },
  {
   "cell_type": "code",
   "execution_count": 20,
   "id": "7e1cc049",
   "metadata": {},
   "outputs": [
    {
     "data": {
      "text/plain": [
       "0                                   NaN\n",
       "1               Acosta, Jessryl Cariaga\n",
       "2            Aguinaldo, Abilardo Gabato\n",
       "3            Aquino, John Michael Cacay\n",
       "4         Aquino, Michael Austine Hadji\n",
       "5                Ausa, John Ryan Oliman\n",
       "6               Bartolome, Raymar Ramos\n",
       "7        Bayangan, Marshal Zane Baichon\n",
       "8           Bermudez, Reu Jasen Gonzaga\n",
       "9       Cadauan, Charmei Valerie Guzman\n",
       "10          Castillo, Jayson Rey Lindao\n",
       "11         Cerezo, Michael John Navarro\n",
       "12     Cristobal, Xandrex Nino Bermundo\n",
       "13         De Guzman, Allen Dale Lagmay\n",
       "14       **** De Leon, Mona May Carillo\n",
       "15             Dronio, Christian Gamido\n",
       "16       Enriquez, Mark Christian Reyes\n",
       "17           Eugenio, John David Esposo\n",
       "18                Fajardo, Jian Carl S.\n",
       "19          Gabatin, Bryan Dale Dupitas\n",
       "20        Galapon, Joseph Manuel gloria\n",
       "21           Galope, Johndhenbert Liwag\n",
       "22           Gapusan, Myleene Lactaotao\n",
       "23         Guiring, John Paul Magpantay\n",
       "24         Icawat, Joseph Luigi Salonga\n",
       "25    Julian, Loiuse Van Cedric Cultura\n",
       "26       Labuguen, Angelo Jerick Bayang\n",
       "27         Lorzano, Karl Angelo Mariano\n",
       "28      Maqueda, Mercy Divine Cabungcal\n",
       "29             Marquez, Leo Jay Esteban\n",
       "30      Marzan, Mark John Paul Reputola\n",
       "31         Mendiola, Rocel Anne De Leon\n",
       "32        Pabillena, Jefferson Manangan\n",
       "33              Paguyo, Christian Lacar\n",
       "34        Pascua, Michael Angelo Ballad\n",
       "35         **** Pascual, Jasper Anoling\n",
       "36            Pera, Christer Jan Pascua\n",
       "37         Petinez, Kathleen Pangilinan\n",
       "38       Rabago, Jomarxon Xyz Dela Cruz\n",
       "39           Ruiz, Conrad Paul Bardiaga\n",
       "40                Sales, Jey Vee Pascua\n",
       "41              Salvador, Alyzza Pabian\n",
       "42        Santiago, Mark Louie Quinones\n",
       "43           Santos, Johnette Mae Ramos\n",
       "44             Servan, John Clyde Romeo\n",
       "45          Soto, Jeuel Reign Abrasaldo\n",
       "46                Valdez, April Mendoza\n",
       "47         Viernes, Janssen Rei Topinio\n",
       "48       Villanueva, Ren Jeronne Carino\n",
       "Name: Unnamed: 1, dtype: object"
      ]
     },
     "execution_count": 20,
     "metadata": {},
     "output_type": "execute_result"
    }
   ],
   "source": [
    "names\n"
   ]
  },
  {
   "cell_type": "code",
   "execution_count": 21,
   "id": "c165faa1",
   "metadata": {},
   "outputs": [
    {
     "data": {
      "text/plain": [
       "[nan,\n",
       " 'Acosta, Jessryl Cariaga',\n",
       " 'Aguinaldo, Abilardo Gabato',\n",
       " 'Aquino, John Michael Cacay',\n",
       " 'Aquino, Michael Austine Hadji',\n",
       " 'Ausa, John Ryan Oliman',\n",
       " 'Bartolome, Raymar Ramos',\n",
       " 'Bayangan, Marshal Zane Baichon',\n",
       " 'Bermudez, Reu Jasen Gonzaga',\n",
       " 'Cadauan, Charmei Valerie Guzman',\n",
       " 'Castillo, Jayson Rey Lindao',\n",
       " 'Cerezo, Michael John Navarro',\n",
       " 'Cristobal, Xandrex Nino Bermundo',\n",
       " 'De Guzman, Allen Dale Lagmay',\n",
       " '**** De Leon, Mona May Carillo',\n",
       " 'Dronio, Christian Gamido',\n",
       " 'Enriquez, Mark Christian Reyes',\n",
       " 'Eugenio, John David Esposo',\n",
       " 'Fajardo, Jian Carl S.',\n",
       " 'Gabatin, Bryan Dale Dupitas',\n",
       " 'Galapon, Joseph Manuel gloria',\n",
       " 'Galope, Johndhenbert Liwag',\n",
       " 'Gapusan, Myleene Lactaotao',\n",
       " 'Guiring, John Paul Magpantay',\n",
       " 'Icawat, Joseph Luigi Salonga',\n",
       " 'Julian, Loiuse Van Cedric Cultura',\n",
       " 'Labuguen, Angelo Jerick Bayang',\n",
       " 'Lorzano, Karl Angelo Mariano',\n",
       " 'Maqueda, Mercy Divine Cabungcal',\n",
       " 'Marquez, Leo Jay Esteban',\n",
       " 'Marzan, Mark John Paul Reputola',\n",
       " 'Mendiola, Rocel Anne De Leon',\n",
       " 'Pabillena, Jefferson Manangan',\n",
       " 'Paguyo, Christian Lacar',\n",
       " 'Pascua, Michael Angelo Ballad',\n",
       " '**** Pascual, Jasper Anoling',\n",
       " 'Pera, Christer Jan Pascua',\n",
       " 'Petinez, Kathleen Pangilinan',\n",
       " 'Rabago, Jomarxon Xyz Dela Cruz',\n",
       " 'Ruiz, Conrad Paul Bardiaga',\n",
       " 'Sales, Jey Vee Pascua',\n",
       " 'Salvador, Alyzza Pabian',\n",
       " 'Santiago, Mark Louie Quinones',\n",
       " 'Santos, Johnette Mae Ramos',\n",
       " 'Servan, John Clyde Romeo',\n",
       " 'Soto, Jeuel Reign Abrasaldo',\n",
       " 'Valdez, April Mendoza',\n",
       " 'Viernes, Janssen Rei Topinio',\n",
       " 'Villanueva, Ren Jeronne Carino']"
      ]
     },
     "execution_count": 21,
     "metadata": {},
     "output_type": "execute_result"
    }
   ],
   "source": [
    "list(names)"
   ]
  },
  {
   "cell_type": "code",
   "execution_count": 23,
   "id": "38913e25",
   "metadata": {},
   "outputs": [],
   "source": [
    "x = list(names)"
   ]
  },
  {
   "cell_type": "code",
   "execution_count": 24,
   "id": "4b2643fd",
   "metadata": {},
   "outputs": [
    {
     "data": {
      "text/plain": [
       "list"
      ]
     },
     "execution_count": 24,
     "metadata": {},
     "output_type": "execute_result"
    }
   ],
   "source": [
    "type(x)"
   ]
  },
  {
   "cell_type": "code",
   "execution_count": 25,
   "id": "801e32c4",
   "metadata": {},
   "outputs": [
    {
     "data": {
      "text/plain": [
       "nan"
      ]
     },
     "execution_count": 25,
     "metadata": {},
     "output_type": "execute_result"
    }
   ],
   "source": [
    "x[0]"
   ]
  },
  {
   "cell_type": "code",
   "execution_count": 27,
   "id": "53b2ccbf",
   "metadata": {},
   "outputs": [],
   "source": [
    "for i in range(1,len(x)):\n",
    "    x[i]=x[i].replace('**** ','') # cleaning names"
   ]
  },
  {
   "cell_type": "code",
   "execution_count": 28,
   "id": "6d24c3b1",
   "metadata": {},
   "outputs": [
    {
     "data": {
      "text/plain": [
       "[nan,\n",
       " 'Acosta, Jessryl Cariaga',\n",
       " 'Aguinaldo, Abilardo Gabato',\n",
       " 'Aquino, John Michael Cacay',\n",
       " 'Aquino, Michael Austine Hadji',\n",
       " 'Ausa, John Ryan Oliman',\n",
       " 'Bartolome, Raymar Ramos',\n",
       " 'Bayangan, Marshal Zane Baichon',\n",
       " 'Bermudez, Reu Jasen Gonzaga',\n",
       " 'Cadauan, Charmei Valerie Guzman',\n",
       " 'Castillo, Jayson Rey Lindao',\n",
       " 'Cerezo, Michael John Navarro',\n",
       " 'Cristobal, Xandrex Nino Bermundo',\n",
       " 'De Guzman, Allen Dale Lagmay',\n",
       " 'De Leon, Mona May Carillo',\n",
       " 'Dronio, Christian Gamido',\n",
       " 'Enriquez, Mark Christian Reyes',\n",
       " 'Eugenio, John David Esposo',\n",
       " 'Fajardo, Jian Carl S.',\n",
       " 'Gabatin, Bryan Dale Dupitas',\n",
       " 'Galapon, Joseph Manuel gloria',\n",
       " 'Galope, Johndhenbert Liwag',\n",
       " 'Gapusan, Myleene Lactaotao',\n",
       " 'Guiring, John Paul Magpantay',\n",
       " 'Icawat, Joseph Luigi Salonga',\n",
       " 'Julian, Loiuse Van Cedric Cultura',\n",
       " 'Labuguen, Angelo Jerick Bayang',\n",
       " 'Lorzano, Karl Angelo Mariano',\n",
       " 'Maqueda, Mercy Divine Cabungcal',\n",
       " 'Marquez, Leo Jay Esteban',\n",
       " 'Marzan, Mark John Paul Reputola',\n",
       " 'Mendiola, Rocel Anne De Leon',\n",
       " 'Pabillena, Jefferson Manangan',\n",
       " 'Paguyo, Christian Lacar',\n",
       " 'Pascua, Michael Angelo Ballad',\n",
       " 'Pascual, Jasper Anoling',\n",
       " 'Pera, Christer Jan Pascua',\n",
       " 'Petinez, Kathleen Pangilinan',\n",
       " 'Rabago, Jomarxon Xyz Dela Cruz',\n",
       " 'Ruiz, Conrad Paul Bardiaga',\n",
       " 'Sales, Jey Vee Pascua',\n",
       " 'Salvador, Alyzza Pabian',\n",
       " 'Santiago, Mark Louie Quinones',\n",
       " 'Santos, Johnette Mae Ramos',\n",
       " 'Servan, John Clyde Romeo',\n",
       " 'Soto, Jeuel Reign Abrasaldo',\n",
       " 'Valdez, April Mendoza',\n",
       " 'Viernes, Janssen Rei Topinio',\n",
       " 'Villanueva, Ren Jeronne Carino']"
      ]
     },
     "execution_count": 28,
     "metadata": {},
     "output_type": "execute_result"
    }
   ],
   "source": [
    "x"
   ]
  },
  {
   "cell_type": "code",
   "execution_count": 29,
   "id": "cd355b74",
   "metadata": {},
   "outputs": [
    {
     "data": {
      "text/plain": [
       "'De Leon, Mona May Carillo'"
      ]
     },
     "execution_count": 29,
     "metadata": {},
     "output_type": "execute_result"
    }
   ],
   "source": [
    "x[14]"
   ]
  },
  {
   "cell_type": "code",
   "execution_count": null,
   "id": "189ae385",
   "metadata": {},
   "outputs": [],
   "source": [
    "for i in range(1,len(x)):\n",
    "    path = os.path.join(,)\n",
    "    os.mkdir(path) # create Directory or Folder"
   ]
  },
  {
   "cell_type": "code",
   "execution_count": null,
   "id": "9846eccc",
   "metadata": {},
   "outputs": [],
   "source": [
    "type(x[0])"
   ]
  },
  {
   "cell_type": "code",
   "execution_count": 32,
   "id": "d406fe62",
   "metadata": {},
   "outputs": [],
   "source": [
    "excel_file=pd.ExcelFile(r'C:\\Users\\Tokwa\\Documents\\Cocoy - School - 2nd Sem 2021-22\\Classlist\\Class List.xlsx') \n",
    "#selecting an excel file"
   ]
  },
  {
   "cell_type": "code",
   "execution_count": 33,
   "id": "fad996e8",
   "metadata": {},
   "outputs": [
    {
     "data": {
      "text/plain": [
       "['X21Steel Design Lec B',\n",
       " 'X20Steel Design Lab B',\n",
       " 'X18RCD LAB - B',\n",
       " 'X19RCD LEC - B',\n",
       " 'X9SD Lab A',\n",
       " 'X10 SD Lec A']"
      ]
     },
     "execution_count": 33,
     "metadata": {},
     "output_type": "execute_result"
    }
   ],
   "source": [
    "excel_file.sheet_names # listing sheet names"
   ]
  },
  {
   "cell_type": "code",
   "execution_count": 34,
   "id": "cbc94f68",
   "metadata": {},
   "outputs": [
    {
     "data": {
      "text/plain": [
       "list"
      ]
     },
     "execution_count": 34,
     "metadata": {},
     "output_type": "execute_result"
    }
   ],
   "source": [
    "type(excel_file.sheet_names)"
   ]
  },
  {
   "cell_type": "code",
   "execution_count": null,
   "id": "ced51982",
   "metadata": {},
   "outputs": [],
   "source": [
    "path = os.path.join(parent_dir,'sectionB')\n",
    "os.mkdir(path) # create Directory or Folder"
   ]
  },
  {
   "cell_type": "code",
   "execution_count": null,
   "id": "64e24aa3",
   "metadata": {},
   "outputs": [],
   "source": [
    "parent_dir = r'C:\\Users\\Tokwa\\Documents\\Cocoy - School - 2nd Sem 2021-22\\Classlist\\sectionA'"
   ]
  },
  {
   "cell_type": "code",
   "execution_count": null,
   "id": "d8bca246",
   "metadata": {},
   "outputs": [],
   "source": [
    "for i in range(1,len(sectionA)):\n",
    "    path = os.path.join(parent_dir,sectionA[i])\n",
    "    os.mkdir(path) # create Directory or Folder"
   ]
  },
  {
   "cell_type": "code",
   "execution_count": 36,
   "id": "47b19d96",
   "metadata": {},
   "outputs": [
    {
     "data": {
      "text/plain": [
       "'C:\\\\Users\\\\Tokwa\\\\Documents\\\\Cocoy - School - 2nd Sem 2021-22\\\\Classlist'"
      ]
     },
     "execution_count": 36,
     "metadata": {},
     "output_type": "execute_result"
    }
   ],
   "source": [
    "os.path.join(parent_dir) "
   ]
  },
  {
   "cell_type": "code",
   "execution_count": 37,
   "id": "bd8b3c98",
   "metadata": {},
   "outputs": [],
   "source": [
    "cwd = os.getcwd()"
   ]
  },
  {
   "cell_type": "code",
   "execution_count": 38,
   "id": "ad55f432",
   "metadata": {},
   "outputs": [
    {
     "data": {
      "text/plain": [
       "'C:\\\\Users\\\\Tokwa\\\\Documents\\\\Cocoy - School - 2nd Sem 2021-22\\\\Classlist'"
      ]
     },
     "execution_count": 38,
     "metadata": {},
     "output_type": "execute_result"
    }
   ],
   "source": [
    "cwd"
   ]
  },
  {
   "cell_type": "code",
   "execution_count": 39,
   "id": "472bc5a4",
   "metadata": {},
   "outputs": [
    {
     "data": {
      "text/plain": [
       "'C:\\\\Users\\\\Tokwa\\\\Documents\\\\Cocoy - School - 2nd Sem 2021-22\\\\Classlist\\\\sectionA'"
      ]
     },
     "execution_count": 39,
     "metadata": {},
     "output_type": "execute_result"
    }
   ],
   "source": [
    "os.path.join(parent_dir,r'C:\\Users\\Tokwa\\Documents\\Cocoy - School - 2nd Sem 2021-22\\Classlist\\sectionA')"
   ]
  },
  {
   "cell_type": "code",
   "execution_count": 9,
   "id": "891bb9df",
   "metadata": {},
   "outputs": [],
   "source": [
    "def working_dir():\n",
    "    cwd=os.getcwd()\n",
    "    print(cwd)\n",
    "    "
   ]
  },
  {
   "cell_type": "code",
   "execution_count": 45,
   "id": "c1c9c151",
   "metadata": {},
   "outputs": [],
   "source": [
    "os.chdir(r'C:\\Users\\Tokwa\\Documents\\Cocoy - School - 2nd Sem 2021-22\\Classlist\\sectionA') # chainging working directory"
   ]
  },
  {
   "cell_type": "code",
   "execution_count": 46,
   "id": "e6279b3f",
   "metadata": {},
   "outputs": [
    {
     "name": "stdout",
     "output_type": "stream",
     "text": [
      "C:\\Users\\Tokwa\\Documents\\Cocoy - School - 2nd Sem 2021-22\\Classlist\\sectionA\n"
     ]
    }
   ],
   "source": [
    "working_dir()"
   ]
  },
  {
   "cell_type": "code",
   "execution_count": 47,
   "id": "fc58aae4",
   "metadata": {},
   "outputs": [
    {
     "data": {
      "text/plain": [
       "<generator object _walk at 0x00000192DBE577D0>"
      ]
     },
     "execution_count": 47,
     "metadata": {},
     "output_type": "execute_result"
    }
   ],
   "source": [
    "os.walk(cwd)"
   ]
  },
  {
   "cell_type": "code",
   "execution_count": 48,
   "id": "ecee1190",
   "metadata": {},
   "outputs": [
    {
     "data": {
      "text/plain": [
       "generator"
      ]
     },
     "execution_count": 48,
     "metadata": {},
     "output_type": "execute_result"
    }
   ],
   "source": [
    "type(os.walk(cwd))"
   ]
  },
  {
   "cell_type": "code",
   "execution_count": 50,
   "id": "29f1143b",
   "metadata": {},
   "outputs": [
    {
     "data": {
      "text/plain": [
       "['Class List.xlsx',\n",
       " 'Class Listk.xlsx',\n",
       " 'coy',\n",
       " 'DC28A410',\n",
       " 'ren',\n",
       " 'sectionA',\n",
       " 'sectionB',\n",
       " 'tokwa',\n",
       " 'X10.pdf',\n",
       " 'X10_WPS PDF convert.xlsx',\n",
       " 'X18.pdf',\n",
       " 'X18_WPS PDF convert.xlsx',\n",
       " 'x19.pdf',\n",
       " 'x19_WPS PDF convert.xlsx',\n",
       " 'X20.pdf',\n",
       " 'X20_WPS PDF convert.xlsx',\n",
       " 'X21.pdf',\n",
       " 'X21_WPS PDF convert.xlsx',\n",
       " 'X9.pdf',\n",
       " 'X9_WPS PDF convert.xlsx']"
      ]
     },
     "execution_count": 50,
     "metadata": {},
     "output_type": "execute_result"
    }
   ],
   "source": [
    "os.listdir(cwd)"
   ]
  },
  {
   "cell_type": "code",
   "execution_count": 52,
   "id": "851865cf",
   "metadata": {},
   "outputs": [
    {
     "data": {
      "text/plain": [
       "'C:\\\\Users\\\\Tokwa\\\\Documents\\\\Cocoy - School - 2nd Sem 2021-22\\\\Classlist'"
      ]
     },
     "execution_count": 52,
     "metadata": {},
     "output_type": "execute_result"
    }
   ],
   "source": [
    "cwd"
   ]
  },
  {
   "cell_type": "code",
   "execution_count": 53,
   "id": "5a2753ea",
   "metadata": {},
   "outputs": [
    {
     "data": {
      "text/plain": [
       "'C:\\\\Users\\\\Tokwa\\\\Documents\\\\Cocoy - School - 2nd Sem 2021-22\\\\Classlist\\\\coy'"
      ]
     },
     "execution_count": 53,
     "metadata": {},
     "output_type": "execute_result"
    }
   ],
   "source": [
    "cwd + r'\\coy'"
   ]
  },
  {
   "cell_type": "code",
   "execution_count": 54,
   "id": "c1458dd6",
   "metadata": {},
   "outputs": [
    {
     "data": {
      "text/plain": [
       "'C:\\\\Users\\\\Tokwa\\\\Documents\\\\Cocoy - School - 2nd Sem 2021-22\\\\Classlist'"
      ]
     },
     "execution_count": 54,
     "metadata": {},
     "output_type": "execute_result"
    }
   ],
   "source": [
    "cwd"
   ]
  },
  {
   "cell_type": "code",
   "execution_count": 55,
   "id": "f51eef89",
   "metadata": {},
   "outputs": [],
   "source": [
    "os.chdir(cwd + r'\\coy')"
   ]
  },
  {
   "cell_type": "code",
   "execution_count": 56,
   "id": "a51d4011",
   "metadata": {},
   "outputs": [
    {
     "data": {
      "text/plain": [
       "'C:\\\\Users\\\\Tokwa\\\\Documents\\\\Cocoy - School - 2nd Sem 2021-22\\\\Classlist'"
      ]
     },
     "execution_count": 56,
     "metadata": {},
     "output_type": "execute_result"
    }
   ],
   "source": [
    "cwd"
   ]
  },
  {
   "cell_type": "code",
   "execution_count": 58,
   "id": "eb56a1bf",
   "metadata": {},
   "outputs": [
    {
     "data": {
      "text/plain": [
       "[]"
      ]
     },
     "execution_count": 58,
     "metadata": {},
     "output_type": "execute_result"
    }
   ],
   "source": [
    "os.listdir(cwd+r'\\coy')"
   ]
  },
  {
   "cell_type": "code",
   "execution_count": 59,
   "id": "9a81394a",
   "metadata": {},
   "outputs": [],
   "source": [
    "os.chdir(cwd + r'\\coy')"
   ]
  },
  {
   "cell_type": "code",
   "execution_count": 60,
   "id": "ab83e648",
   "metadata": {},
   "outputs": [
    {
     "name": "stdout",
     "output_type": "stream",
     "text": [
      "C:\\Users\\Tokwa\\Documents\\Cocoy - School - 2nd Sem 2021-22\\Classlist\\coy\n"
     ]
    }
   ],
   "source": [
    "working_dir()\n"
   ]
  },
  {
   "cell_type": "code",
   "execution_count": 63,
   "id": "2a579949",
   "metadata": {},
   "outputs": [
    {
     "data": {
      "text/plain": [
       "list"
      ]
     },
     "execution_count": 63,
     "metadata": {},
     "output_type": "execute_result"
    }
   ],
   "source": [
    "type(os.listdir(cwd +r'\\sectionB'))"
   ]
  },
  {
   "cell_type": "code",
   "execution_count": 7,
   "id": "ef80d7d4",
   "metadata": {},
   "outputs": [],
   "source": [
    "os.chdir(cwd+r'\\sectionA')"
   ]
  },
  {
   "cell_type": "code",
   "execution_count": 10,
   "id": "55621c39",
   "metadata": {},
   "outputs": [
    {
     "name": "stdout",
     "output_type": "stream",
     "text": [
      "C:\\Users\\Tokwa\\Documents\\Cocoy - School - 2nd Sem 2021-22\\Classlist\\sectionA\n"
     ]
    }
   ],
   "source": [
    "working_dir()"
   ]
  },
  {
   "cell_type": "code",
   "execution_count": 12,
   "id": "fb03bbff",
   "metadata": {},
   "outputs": [],
   "source": [
    "path = cwd + r'\\sectionA'"
   ]
  },
  {
   "cell_type": "code",
   "execution_count": 73,
   "id": "ef065ed7",
   "metadata": {},
   "outputs": [
    {
     "data": {
      "text/plain": [
       "'C:\\\\Users\\\\Tokwa\\\\Documents\\\\Cocoy - School - 2nd Sem 2021-22\\\\Classlist\\\\sectionA'"
      ]
     },
     "execution_count": 73,
     "metadata": {},
     "output_type": "execute_result"
    }
   ],
   "source": [
    "path"
   ]
  },
  {
   "cell_type": "code",
   "execution_count": 13,
   "id": "2837527e",
   "metadata": {},
   "outputs": [],
   "source": [
    "listofnames = os.listdir(path)"
   ]
  },
  {
   "cell_type": "code",
   "execution_count": 14,
   "id": "cff33114",
   "metadata": {},
   "outputs": [
    {
     "data": {
      "text/plain": [
       "44"
      ]
     },
     "execution_count": 14,
     "metadata": {},
     "output_type": "execute_result"
    }
   ],
   "source": [
    "len(listofnames)"
   ]
  },
  {
   "cell_type": "code",
   "execution_count": 15,
   "id": "3c0bcbc9",
   "metadata": {},
   "outputs": [
    {
     "name": "stdout",
     "output_type": "stream",
     "text": [
      "Palomo, Kevin Paul Eser\n",
      "Umotoy Jr., Christopher Sapipi\n",
      "Vicente, Joemar Juguiad\n",
      "3\n"
     ]
    }
   ],
   "source": [
    "i=0\n",
    "for j in range(0,len(listofnames)):\n",
    "    dir = os.path.join(path, listofnames[j])\n",
    "    if len(os.listdir(dir)) == 0:\n",
    "        i = i + 1\n",
    "        print(listofnames[j])\n",
    "\n",
    "print(i)\n",
    "\n",
    "# checks empty folders \n",
    "        "
   ]
  },
  {
   "cell_type": "code",
   "execution_count": 16,
   "id": "151182f5",
   "metadata": {},
   "outputs": [
    {
     "data": {
      "text/plain": [
       "'C:\\\\Users\\\\Tokwa\\\\Documents\\\\Cocoy - School - 2nd Sem 2021-22\\\\Classlist'"
      ]
     },
     "execution_count": 16,
     "metadata": {},
     "output_type": "execute_result"
    }
   ],
   "source": [
    "cwd"
   ]
  },
  {
   "cell_type": "code",
   "execution_count": 26,
   "id": "331f920d",
   "metadata": {},
   "outputs": [],
   "source": [
    "path = cwd +r'\\sectionB'"
   ]
  },
  {
   "cell_type": "code",
   "execution_count": 25,
   "id": "d9ba1f6d",
   "metadata": {},
   "outputs": [
    {
     "name": "stdout",
     "output_type": "stream",
     "text": [
      "C:\\Users\\Tokwa\\Documents\\Cocoy - School - 2nd Sem 2021-22\\Classlist\\sectionA\n"
     ]
    }
   ],
   "source": [
    "working_dir()"
   ]
  },
  {
   "cell_type": "code",
   "execution_count": 32,
   "id": "5ed96dbe",
   "metadata": {},
   "outputs": [
    {
     "data": {
      "text/plain": [
       "'C:\\\\Users\\\\Tokwa\\\\Documents\\\\Cocoy - School - 2nd Sem 2021-22\\\\Classlist\\\\sectionB'"
      ]
     },
     "execution_count": 32,
     "metadata": {},
     "output_type": "execute_result"
    }
   ],
   "source": [
    "path"
   ]
  },
  {
   "cell_type": "code",
   "execution_count": 28,
   "id": "f58d8e4d",
   "metadata": {},
   "outputs": [],
   "source": [
    "listofnamesB = os.listdir(path)"
   ]
  },
  {
   "cell_type": "code",
   "execution_count": 29,
   "id": "4d214502",
   "metadata": {},
   "outputs": [
    {
     "data": {
      "text/plain": [
       "48"
      ]
     },
     "execution_count": 29,
     "metadata": {},
     "output_type": "execute_result"
    }
   ],
   "source": [
    "len(listofnamesB)"
   ]
  },
  {
   "cell_type": "code",
   "execution_count": 33,
   "id": "3f5afd86",
   "metadata": {},
   "outputs": [
    {
     "name": "stdout",
     "output_type": "stream",
     "text": [
      "Galapon, Joseph Manuel gloria\n",
      "Galope, Johndhenbert Liwag\n",
      "Maqueda, Mercy Divine Cabungcal\n",
      "Ruiz, Conrad Paul Bardiaga\n",
      "Sales, Jey Vee Pascua\n",
      "Valdez, April Mendoza\n",
      "Viernes, Janssen Rei Topinio\n",
      "7\n"
     ]
    }
   ],
   "source": [
    "i=0\n",
    "for j in range(0,len(listofnamesB)):\n",
    "    dir = os.path.join(path, listofnamesB[j])\n",
    "    if len(os.listdir(dir)) == 0:\n",
    "        i = i + 1\n",
    "        print(listofnamesB[j])\n",
    "\n",
    "print(i)\n",
    "\n",
    "# checks empty folders \n",
    "        "
   ]
  }
 ],
 "metadata": {
  "kernelspec": {
   "display_name": "Python 3 (ipykernel)",
   "language": "python",
   "name": "python3"
  },
  "language_info": {
   "codemirror_mode": {
    "name": "ipython",
    "version": 3
   },
   "file_extension": ".py",
   "mimetype": "text/x-python",
   "name": "python",
   "nbconvert_exporter": "python",
   "pygments_lexer": "ipython3",
   "version": "3.10.6"
  }
 },
 "nbformat": 4,
 "nbformat_minor": 5
}

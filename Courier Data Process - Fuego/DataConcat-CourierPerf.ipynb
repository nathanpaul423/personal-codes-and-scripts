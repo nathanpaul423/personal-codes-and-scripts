{
 "cells": [
  {
   "cell_type": "code",
   "execution_count": 18,
   "metadata": {},
   "outputs": [],
   "source": [
    "import pandas as pd\n",
    "import os\n",
    "import datetime"
   ]
  },
  {
   "cell_type": "code",
   "execution_count": 50,
   "metadata": {},
   "outputs": [],
   "source": [
    "#change to target folder and month\n",
    "target = r'C:\\Users\\NATHANPAULBUSTAMANTE\\OneDrive\\Desktop\\Personality test\\Fuego\\Courier - Perfomance - Dashboard\\Feb2024 - Copy'\n",
    "month = 2"
   ]
  },
  {
   "cell_type": "code",
   "execution_count": 55,
   "metadata": {},
   "outputs": [],
   "source": [
    "def filesNeeded(filedir):    \n",
    "    file_list = os.listdir(filedir)\n",
    "    filesNeeded = [file for file in file_list if \"Employees\" in file]\n",
    "    return filesNeeded\n",
    "    "
   ]
  },
  {
   "cell_type": "code",
   "execution_count": 43,
   "metadata": {},
   "outputs": [],
   "source": [
    "neededDate = ['First Name','Last Name','Transactions','Date']\n",
    "compilation = pd.DataFrame(columns=neededDate)"
   ]
  },
  {
   "cell_type": "code",
   "execution_count": 39,
   "metadata": {},
   "outputs": [],
   "source": [
    "def generate_dates(month):\n",
    "    # Get the current year\n",
    "    current_year = datetime.datetime.now().year\n",
    "    \n",
    "    # Create a list to store the dates\n",
    "    dates_list = []\n",
    "    \n",
    "    # Generate dates for the specified month\n",
    "    for day in range(1, 32):  # Assuming max number of days in a month\n",
    "        try:\n",
    "            date = datetime.datetime(current_year, month, day).strftime(\"%m/%d/%Y\")\n",
    "            dates_list.append(date)\n",
    "        except ValueError:\n",
    "            break  # Break loop if day is out of range for the month\n",
    "    \n",
    "    return dates_list"
   ]
  },
  {
   "cell_type": "code",
   "execution_count": 56,
   "metadata": {},
   "outputs": [],
   "source": [
    "needed = ['First Name','Last Name','Transactions']\n",
    "\n",
    "for i, (x, y)  in enumerate(zip(filesNeeded(target),generate_dates(month))):\n",
    "    files = pd.read_csv(os.path.join(target,x) , skiprows=1, usecols=needed)\n",
    "    files['Date'] = y\n",
    "\n",
    "    compilation = pd.concat([compilation, files],ignore_index = True)"
   ]
  },
  {
   "cell_type": "code",
   "execution_count": 57,
   "metadata": {},
   "outputs": [],
   "source": [
    "compilation.to_csv(target + r'\\trialdriverOrders.csv')"
   ]
  }
 ],
 "metadata": {
  "kernelspec": {
   "display_name": "Python 3",
   "language": "python",
   "name": "python3"
  },
  "language_info": {
   "codemirror_mode": {
    "name": "ipython",
    "version": 3
   },
   "file_extension": ".py",
   "mimetype": "text/x-python",
   "name": "python",
   "nbconvert_exporter": "python",
   "pygments_lexer": "ipython3",
   "version": "3.10.6"
  }
 },
 "nbformat": 4,
 "nbformat_minor": 2
}

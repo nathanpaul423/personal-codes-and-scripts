{
 "cells": [
  {
   "cell_type": "code",
   "execution_count": 3,
   "metadata": {},
   "outputs": [],
   "source": [
    "import pandas as pd\n",
    "import os"
   ]
  },
  {
   "cell_type": "code",
   "execution_count": 4,
   "metadata": {},
   "outputs": [],
   "source": [
    "targetFolder = r'C:\\Users\\NATHANPAULBUSTAMANTE\\OneDrive\\Desktop\\Personality test\\Fuego\\Transaction Report.xlsx'\n",
    "\n",
    "#D_Cancelled\n",
    "#D_Sales"
   ]
  },
  {
   "cell_type": "code",
   "execution_count": 10,
   "metadata": {},
   "outputs": [],
   "source": [
    "df_completed = pd.read_excel(targetFolder, sheet_name='D_Sales')\n",
    "df_canceled = pd.read_excel(targetFolder,sheet_name='D_Cancelled')"
   ]
  },
  {
   "cell_type": "code",
   "execution_count": 11,
   "metadata": {},
   "outputs": [
    {
     "data": {
      "text/plain": [
       "Index(['OR_Time', 'OP_ProcessTime', 'OP_Created', 'OC_EndTime', 'OC_Mins',\n",
       "       'S_Date/Time', 'S_Time', 'E_Date/Time', 'E_Time', 'Date', 'Member',\n",
       "       'Gross Receipt', 'Employee', 'Terminal', 'Order Tags', 'Created By',\n",
       "       'Created Date', 'Reason', 'Comment', 'Tag', 'WE', 'Date2', 'Interval',\n",
       "       'Transaction number', 'Note'],\n",
       "      dtype='object')"
      ]
     },
     "execution_count": 11,
     "metadata": {},
     "output_type": "execute_result"
    }
   ],
   "source": [
    "df_canceled.columns"
   ]
  },
  {
   "cell_type": "code",
   "execution_count": 12,
   "metadata": {},
   "outputs": [
    {
     "data": {
      "text/plain": [
       "Index(['OR__Date', 'OR_Time', 'OP_ProcessTime', 'OP_Created', 'OC_EndTime',\n",
       "       'OC_Mins', 'S_Date/Time', 'S_Time', 'E_Date/Time', 'E_Time', 'Date',\n",
       "       'Member', 'Gross Receipt', 'Employee', 'Terminal', 'Order Tags',\n",
       "       'Created By', 'Created Date', 'Tag', 'WE', 'Date2', 'Interval',\n",
       "       'Transaction #', 'Remarks', 'Sales Based on Order Tag', 'Day'],\n",
       "      dtype='object')"
      ]
     },
     "execution_count": 12,
     "metadata": {},
     "output_type": "execute_result"
    }
   ],
   "source": [
    "df_completed.columns"
   ]
  },
  {
   "cell_type": "code",
   "execution_count": null,
   "metadata": {},
   "outputs": [],
   "source": [
    "columns = ['Transaction #','Gross Receipt',]"
   ]
  }
 ],
 "metadata": {
  "kernelspec": {
   "display_name": "Python 3",
   "language": "python",
   "name": "python3"
  },
  "language_info": {
   "codemirror_mode": {
    "name": "ipython",
    "version": 3
   },
   "file_extension": ".py",
   "mimetype": "text/x-python",
   "name": "python",
   "nbconvert_exporter": "python",
   "pygments_lexer": "ipython3",
   "version": "3.10.6"
  }
 },
 "nbformat": 4,
 "nbformat_minor": 2
}
